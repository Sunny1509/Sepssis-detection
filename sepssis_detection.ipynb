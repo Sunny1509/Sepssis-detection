{
 "cells": [
  {
   "cell_type": "markdown",
   "id": "21bccd3a",
   "metadata": {},
   "source": [
    "# Loading Data and Exploratory Data Analysis\n"
   ]
  },
  {
   "cell_type": "code",
   "execution_count": 1,
   "id": "6a582b2d",
   "metadata": {},
   "outputs": [
    {
     "data": {
      "text/html": [
       "<div>\n",
       "<style scoped>\n",
       "    .dataframe tbody tr th:only-of-type {\n",
       "        vertical-align: middle;\n",
       "    }\n",
       "\n",
       "    .dataframe tbody tr th {\n",
       "        vertical-align: top;\n",
       "    }\n",
       "\n",
       "    .dataframe thead th {\n",
       "        text-align: right;\n",
       "    }\n",
       "</style>\n",
       "<table border=\"1\" class=\"dataframe\">\n",
       "  <thead>\n",
       "    <tr style=\"text-align: right;\">\n",
       "      <th></th>\n",
       "      <th>ID</th>\n",
       "      <th>PRG</th>\n",
       "      <th>PL</th>\n",
       "      <th>PR</th>\n",
       "      <th>SK</th>\n",
       "      <th>TS</th>\n",
       "      <th>M11</th>\n",
       "      <th>BD2</th>\n",
       "      <th>Age</th>\n",
       "      <th>Insurance</th>\n",
       "      <th>Sepssis</th>\n",
       "    </tr>\n",
       "  </thead>\n",
       "  <tbody>\n",
       "    <tr>\n",
       "      <th>0</th>\n",
       "      <td>ICU200010</td>\n",
       "      <td>6</td>\n",
       "      <td>148</td>\n",
       "      <td>72</td>\n",
       "      <td>35</td>\n",
       "      <td>0</td>\n",
       "      <td>33.6</td>\n",
       "      <td>0.627</td>\n",
       "      <td>50</td>\n",
       "      <td>0</td>\n",
       "      <td>Positive</td>\n",
       "    </tr>\n",
       "    <tr>\n",
       "      <th>1</th>\n",
       "      <td>ICU200011</td>\n",
       "      <td>1</td>\n",
       "      <td>85</td>\n",
       "      <td>66</td>\n",
       "      <td>29</td>\n",
       "      <td>0</td>\n",
       "      <td>26.6</td>\n",
       "      <td>0.351</td>\n",
       "      <td>31</td>\n",
       "      <td>0</td>\n",
       "      <td>Negative</td>\n",
       "    </tr>\n",
       "    <tr>\n",
       "      <th>2</th>\n",
       "      <td>ICU200012</td>\n",
       "      <td>8</td>\n",
       "      <td>183</td>\n",
       "      <td>64</td>\n",
       "      <td>0</td>\n",
       "      <td>0</td>\n",
       "      <td>23.3</td>\n",
       "      <td>0.672</td>\n",
       "      <td>32</td>\n",
       "      <td>1</td>\n",
       "      <td>Positive</td>\n",
       "    </tr>\n",
       "    <tr>\n",
       "      <th>3</th>\n",
       "      <td>ICU200013</td>\n",
       "      <td>1</td>\n",
       "      <td>89</td>\n",
       "      <td>66</td>\n",
       "      <td>23</td>\n",
       "      <td>94</td>\n",
       "      <td>28.1</td>\n",
       "      <td>0.167</td>\n",
       "      <td>21</td>\n",
       "      <td>1</td>\n",
       "      <td>Negative</td>\n",
       "    </tr>\n",
       "    <tr>\n",
       "      <th>4</th>\n",
       "      <td>ICU200014</td>\n",
       "      <td>0</td>\n",
       "      <td>137</td>\n",
       "      <td>40</td>\n",
       "      <td>35</td>\n",
       "      <td>168</td>\n",
       "      <td>43.1</td>\n",
       "      <td>2.288</td>\n",
       "      <td>33</td>\n",
       "      <td>1</td>\n",
       "      <td>Positive</td>\n",
       "    </tr>\n",
       "  </tbody>\n",
       "</table>\n",
       "</div>"
      ],
      "text/plain": [
       "          ID  PRG   PL  PR  SK   TS   M11    BD2  Age  Insurance   Sepssis\n",
       "0  ICU200010    6  148  72  35    0  33.6  0.627   50          0  Positive\n",
       "1  ICU200011    1   85  66  29    0  26.6  0.351   31          0  Negative\n",
       "2  ICU200012    8  183  64   0    0  23.3  0.672   32          1  Positive\n",
       "3  ICU200013    1   89  66  23   94  28.1  0.167   21          1  Negative\n",
       "4  ICU200014    0  137  40  35  168  43.1  2.288   33          1  Positive"
      ]
     },
     "execution_count": 1,
     "metadata": {},
     "output_type": "execute_result"
    }
   ],
   "source": [
    "import pandas as pd\n",
    "import numpy as np\n",
    "import matplotlib.pyplot as plt\n",
    "import seaborn as sns\n",
    "import sys\n",
    "\n",
    "if not sys.warnoptions:\n",
    "    import warnings\n",
    "    warnings.simplefilter(\"ignore\")\n",
    "Sepssis_dataframe = pd.read_csv('Paitients_Files_Train.csv', delimiter =',')\n",
    "Sepssis_dataframe.head()\n",
    "\n",
    "    "
   ]
  },
  {
   "cell_type": "markdown",
   "id": "656ee020",
   "metadata": {},
   "source": [
    "Loading the dataframe and displaying first 5 rows of it."
   ]
  },
  {
   "cell_type": "code",
   "execution_count": 2,
   "id": "7f2382b2",
   "metadata": {},
   "outputs": [
    {
     "data": {
      "text/plain": [
       "False"
      ]
     },
     "execution_count": 2,
     "metadata": {},
     "output_type": "execute_result"
    }
   ],
   "source": [
    "Sepssis_dataframe.isnull().values.any()"
   ]
  },
  {
   "cell_type": "markdown",
   "id": "bd3a5063",
   "metadata": {},
   "source": [
    "It's good practice to make sure to check if there is null values in the data\n",
    "The dataset doesn't have any null values."
   ]
  },
  {
   "cell_type": "code",
   "execution_count": 3,
   "id": "e2886648",
   "metadata": {},
   "outputs": [
    {
     "data": {
      "text/plain": [
       "(599, 11)"
      ]
     },
     "execution_count": 3,
     "metadata": {},
     "output_type": "execute_result"
    }
   ],
   "source": [
    "Sepssis_dataframe.shape"
   ]
  },
  {
   "cell_type": "markdown",
   "id": "2edfc694",
   "metadata": {},
   "source": [
    "The dataset has 599 rows and 11 columns."
   ]
  },
  {
   "cell_type": "code",
   "execution_count": 4,
   "id": "c613643c",
   "metadata": {},
   "outputs": [
    {
     "name": "stdout",
     "output_type": "stream",
     "text": [
      "<class 'pandas.core.frame.DataFrame'>\n",
      "RangeIndex: 599 entries, 0 to 598\n",
      "Data columns (total 11 columns):\n",
      " #   Column     Non-Null Count  Dtype  \n",
      "---  ------     --------------  -----  \n",
      " 0   ID         599 non-null    object \n",
      " 1   PRG        599 non-null    int64  \n",
      " 2   PL         599 non-null    int64  \n",
      " 3   PR         599 non-null    int64  \n",
      " 4   SK         599 non-null    int64  \n",
      " 5   TS         599 non-null    int64  \n",
      " 6   M11        599 non-null    float64\n",
      " 7   BD2        599 non-null    float64\n",
      " 8   Age        599 non-null    int64  \n",
      " 9   Insurance  599 non-null    int64  \n",
      " 10  Sepssis    599 non-null    object \n",
      "dtypes: float64(2), int64(7), object(2)\n",
      "memory usage: 51.6+ KB\n"
     ]
    }
   ],
   "source": [
    "Sepssis_dataframe.info()"
   ]
  },
  {
   "cell_type": "markdown",
   "id": "3e7a4dbe",
   "metadata": {},
   "source": [
    "There are total 11 columns in the dataset. The abbreviated column names are as follows:\n",
    "- ID: Patient ID\n",
    "- PRG: Plasma Glucose\n",
    "- PL: Blood Work Result-1\n",
    "- PR: Blood Pressure\n",
    "- SK: Blood Work Result-2\n",
    "- TS: Blood Work Result-3\n",
    "- M11: Body Mass Index\n",
    "- BD2: Blood Work Result-4\n",
    "- Age: Patient Age\n",
    "- Insurance: If Patient has Insurance card or not\n",
    "- Sepssis: If Patient in ICU has Sepssis or not\n",
    "\n",
    "\n",
    "<font color ='red'> The target column is **Sepssis**</font>"
   ]
  },
  {
   "cell_type": "code",
   "execution_count": 5,
   "id": "4d1bff39",
   "metadata": {},
   "outputs": [
    {
     "data": {
      "text/html": [
       "<div>\n",
       "<style scoped>\n",
       "    .dataframe tbody tr th:only-of-type {\n",
       "        vertical-align: middle;\n",
       "    }\n",
       "\n",
       "    .dataframe tbody tr th {\n",
       "        vertical-align: top;\n",
       "    }\n",
       "\n",
       "    .dataframe thead th {\n",
       "        text-align: right;\n",
       "    }\n",
       "</style>\n",
       "<table border=\"1\" class=\"dataframe\">\n",
       "  <thead>\n",
       "    <tr style=\"text-align: right;\">\n",
       "      <th></th>\n",
       "      <th>PRG</th>\n",
       "      <th>PL</th>\n",
       "      <th>PR</th>\n",
       "      <th>SK</th>\n",
       "      <th>TS</th>\n",
       "      <th>M11</th>\n",
       "      <th>BD2</th>\n",
       "      <th>Age</th>\n",
       "      <th>Insurance</th>\n",
       "    </tr>\n",
       "  </thead>\n",
       "  <tbody>\n",
       "    <tr>\n",
       "      <th>count</th>\n",
       "      <td>599.000000</td>\n",
       "      <td>599.000000</td>\n",
       "      <td>599.000000</td>\n",
       "      <td>599.000000</td>\n",
       "      <td>599.000000</td>\n",
       "      <td>599.000000</td>\n",
       "      <td>599.000000</td>\n",
       "      <td>599.000000</td>\n",
       "      <td>599.000000</td>\n",
       "    </tr>\n",
       "    <tr>\n",
       "      <th>mean</th>\n",
       "      <td>3.824708</td>\n",
       "      <td>120.153589</td>\n",
       "      <td>68.732888</td>\n",
       "      <td>20.562604</td>\n",
       "      <td>79.460768</td>\n",
       "      <td>31.920033</td>\n",
       "      <td>0.481187</td>\n",
       "      <td>33.290484</td>\n",
       "      <td>0.686144</td>\n",
       "    </tr>\n",
       "    <tr>\n",
       "      <th>std</th>\n",
       "      <td>3.362839</td>\n",
       "      <td>32.682364</td>\n",
       "      <td>19.335675</td>\n",
       "      <td>16.017622</td>\n",
       "      <td>116.576176</td>\n",
       "      <td>8.008227</td>\n",
       "      <td>0.337552</td>\n",
       "      <td>11.828446</td>\n",
       "      <td>0.464447</td>\n",
       "    </tr>\n",
       "    <tr>\n",
       "      <th>min</th>\n",
       "      <td>0.000000</td>\n",
       "      <td>0.000000</td>\n",
       "      <td>0.000000</td>\n",
       "      <td>0.000000</td>\n",
       "      <td>0.000000</td>\n",
       "      <td>0.000000</td>\n",
       "      <td>0.078000</td>\n",
       "      <td>21.000000</td>\n",
       "      <td>0.000000</td>\n",
       "    </tr>\n",
       "    <tr>\n",
       "      <th>25%</th>\n",
       "      <td>1.000000</td>\n",
       "      <td>99.000000</td>\n",
       "      <td>64.000000</td>\n",
       "      <td>0.000000</td>\n",
       "      <td>0.000000</td>\n",
       "      <td>27.100000</td>\n",
       "      <td>0.248000</td>\n",
       "      <td>24.000000</td>\n",
       "      <td>0.000000</td>\n",
       "    </tr>\n",
       "    <tr>\n",
       "      <th>50%</th>\n",
       "      <td>3.000000</td>\n",
       "      <td>116.000000</td>\n",
       "      <td>70.000000</td>\n",
       "      <td>23.000000</td>\n",
       "      <td>36.000000</td>\n",
       "      <td>32.000000</td>\n",
       "      <td>0.383000</td>\n",
       "      <td>29.000000</td>\n",
       "      <td>1.000000</td>\n",
       "    </tr>\n",
       "    <tr>\n",
       "      <th>75%</th>\n",
       "      <td>6.000000</td>\n",
       "      <td>140.000000</td>\n",
       "      <td>80.000000</td>\n",
       "      <td>32.000000</td>\n",
       "      <td>123.500000</td>\n",
       "      <td>36.550000</td>\n",
       "      <td>0.647000</td>\n",
       "      <td>40.000000</td>\n",
       "      <td>1.000000</td>\n",
       "    </tr>\n",
       "    <tr>\n",
       "      <th>max</th>\n",
       "      <td>17.000000</td>\n",
       "      <td>198.000000</td>\n",
       "      <td>122.000000</td>\n",
       "      <td>99.000000</td>\n",
       "      <td>846.000000</td>\n",
       "      <td>67.100000</td>\n",
       "      <td>2.420000</td>\n",
       "      <td>81.000000</td>\n",
       "      <td>1.000000</td>\n",
       "    </tr>\n",
       "  </tbody>\n",
       "</table>\n",
       "</div>"
      ],
      "text/plain": [
       "              PRG          PL          PR          SK          TS         M11  \\\n",
       "count  599.000000  599.000000  599.000000  599.000000  599.000000  599.000000   \n",
       "mean     3.824708  120.153589   68.732888   20.562604   79.460768   31.920033   \n",
       "std      3.362839   32.682364   19.335675   16.017622  116.576176    8.008227   \n",
       "min      0.000000    0.000000    0.000000    0.000000    0.000000    0.000000   \n",
       "25%      1.000000   99.000000   64.000000    0.000000    0.000000   27.100000   \n",
       "50%      3.000000  116.000000   70.000000   23.000000   36.000000   32.000000   \n",
       "75%      6.000000  140.000000   80.000000   32.000000  123.500000   36.550000   \n",
       "max     17.000000  198.000000  122.000000   99.000000  846.000000   67.100000   \n",
       "\n",
       "              BD2         Age   Insurance  \n",
       "count  599.000000  599.000000  599.000000  \n",
       "mean     0.481187   33.290484    0.686144  \n",
       "std      0.337552   11.828446    0.464447  \n",
       "min      0.078000   21.000000    0.000000  \n",
       "25%      0.248000   24.000000    0.000000  \n",
       "50%      0.383000   29.000000    1.000000  \n",
       "75%      0.647000   40.000000    1.000000  \n",
       "max      2.420000   81.000000    1.000000  "
      ]
     },
     "execution_count": 5,
     "metadata": {},
     "output_type": "execute_result"
    }
   ],
   "source": [
    "Sepssis_dataframe.describe()"
   ]
  },
  {
   "cell_type": "markdown",
   "id": "1ddfaab4",
   "metadata": {},
   "source": [
    "All of the data lies into the category of Continuous Variables..\n",
    "\n",
    "The Minimum Age of the Patient is 21 years while the Maximum Age of Patient is 81 years.."
   ]
  },
  {
   "cell_type": "code",
   "execution_count": 6,
   "id": "fde3dd20",
   "metadata": {},
   "outputs": [
    {
     "data": {
      "text/html": [
       "<div>\n",
       "<style scoped>\n",
       "    .dataframe tbody tr th:only-of-type {\n",
       "        vertical-align: middle;\n",
       "    }\n",
       "\n",
       "    .dataframe tbody tr th {\n",
       "        vertical-align: top;\n",
       "    }\n",
       "\n",
       "    .dataframe thead th {\n",
       "        text-align: right;\n",
       "    }\n",
       "</style>\n",
       "<table border=\"1\" class=\"dataframe\">\n",
       "  <thead>\n",
       "    <tr style=\"text-align: right;\">\n",
       "      <th></th>\n",
       "      <th>PRG</th>\n",
       "      <th>PL</th>\n",
       "      <th>PR</th>\n",
       "      <th>SK</th>\n",
       "      <th>TS</th>\n",
       "      <th>M11</th>\n",
       "      <th>BD2</th>\n",
       "      <th>Age</th>\n",
       "      <th>Sepssis</th>\n",
       "    </tr>\n",
       "  </thead>\n",
       "  <tbody>\n",
       "    <tr>\n",
       "      <th>0</th>\n",
       "      <td>6</td>\n",
       "      <td>148</td>\n",
       "      <td>72</td>\n",
       "      <td>35</td>\n",
       "      <td>0</td>\n",
       "      <td>33.6</td>\n",
       "      <td>0.627</td>\n",
       "      <td>50</td>\n",
       "      <td>Positive</td>\n",
       "    </tr>\n",
       "    <tr>\n",
       "      <th>1</th>\n",
       "      <td>1</td>\n",
       "      <td>85</td>\n",
       "      <td>66</td>\n",
       "      <td>29</td>\n",
       "      <td>0</td>\n",
       "      <td>26.6</td>\n",
       "      <td>0.351</td>\n",
       "      <td>31</td>\n",
       "      <td>Negative</td>\n",
       "    </tr>\n",
       "    <tr>\n",
       "      <th>2</th>\n",
       "      <td>8</td>\n",
       "      <td>183</td>\n",
       "      <td>64</td>\n",
       "      <td>0</td>\n",
       "      <td>0</td>\n",
       "      <td>23.3</td>\n",
       "      <td>0.672</td>\n",
       "      <td>32</td>\n",
       "      <td>Positive</td>\n",
       "    </tr>\n",
       "    <tr>\n",
       "      <th>3</th>\n",
       "      <td>1</td>\n",
       "      <td>89</td>\n",
       "      <td>66</td>\n",
       "      <td>23</td>\n",
       "      <td>94</td>\n",
       "      <td>28.1</td>\n",
       "      <td>0.167</td>\n",
       "      <td>21</td>\n",
       "      <td>Negative</td>\n",
       "    </tr>\n",
       "    <tr>\n",
       "      <th>4</th>\n",
       "      <td>0</td>\n",
       "      <td>137</td>\n",
       "      <td>40</td>\n",
       "      <td>35</td>\n",
       "      <td>168</td>\n",
       "      <td>43.1</td>\n",
       "      <td>2.288</td>\n",
       "      <td>33</td>\n",
       "      <td>Positive</td>\n",
       "    </tr>\n",
       "    <tr>\n",
       "      <th>...</th>\n",
       "      <td>...</td>\n",
       "      <td>...</td>\n",
       "      <td>...</td>\n",
       "      <td>...</td>\n",
       "      <td>...</td>\n",
       "      <td>...</td>\n",
       "      <td>...</td>\n",
       "      <td>...</td>\n",
       "      <td>...</td>\n",
       "    </tr>\n",
       "    <tr>\n",
       "      <th>594</th>\n",
       "      <td>6</td>\n",
       "      <td>123</td>\n",
       "      <td>72</td>\n",
       "      <td>45</td>\n",
       "      <td>230</td>\n",
       "      <td>33.6</td>\n",
       "      <td>0.733</td>\n",
       "      <td>34</td>\n",
       "      <td>Negative</td>\n",
       "    </tr>\n",
       "    <tr>\n",
       "      <th>595</th>\n",
       "      <td>0</td>\n",
       "      <td>188</td>\n",
       "      <td>82</td>\n",
       "      <td>14</td>\n",
       "      <td>185</td>\n",
       "      <td>32.0</td>\n",
       "      <td>0.682</td>\n",
       "      <td>22</td>\n",
       "      <td>Positive</td>\n",
       "    </tr>\n",
       "    <tr>\n",
       "      <th>596</th>\n",
       "      <td>0</td>\n",
       "      <td>67</td>\n",
       "      <td>76</td>\n",
       "      <td>0</td>\n",
       "      <td>0</td>\n",
       "      <td>45.3</td>\n",
       "      <td>0.194</td>\n",
       "      <td>46</td>\n",
       "      <td>Negative</td>\n",
       "    </tr>\n",
       "    <tr>\n",
       "      <th>597</th>\n",
       "      <td>1</td>\n",
       "      <td>89</td>\n",
       "      <td>24</td>\n",
       "      <td>19</td>\n",
       "      <td>25</td>\n",
       "      <td>27.8</td>\n",
       "      <td>0.559</td>\n",
       "      <td>21</td>\n",
       "      <td>Negative</td>\n",
       "    </tr>\n",
       "    <tr>\n",
       "      <th>598</th>\n",
       "      <td>1</td>\n",
       "      <td>173</td>\n",
       "      <td>74</td>\n",
       "      <td>0</td>\n",
       "      <td>0</td>\n",
       "      <td>36.8</td>\n",
       "      <td>0.088</td>\n",
       "      <td>38</td>\n",
       "      <td>Positive</td>\n",
       "    </tr>\n",
       "  </tbody>\n",
       "</table>\n",
       "<p>599 rows × 9 columns</p>\n",
       "</div>"
      ],
      "text/plain": [
       "     PRG   PL  PR  SK   TS   M11    BD2  Age   Sepssis\n",
       "0      6  148  72  35    0  33.6  0.627   50  Positive\n",
       "1      1   85  66  29    0  26.6  0.351   31  Negative\n",
       "2      8  183  64   0    0  23.3  0.672   32  Positive\n",
       "3      1   89  66  23   94  28.1  0.167   21  Negative\n",
       "4      0  137  40  35  168  43.1  2.288   33  Positive\n",
       "..   ...  ...  ..  ..  ...   ...    ...  ...       ...\n",
       "594    6  123  72  45  230  33.6  0.733   34  Negative\n",
       "595    0  188  82  14  185  32.0  0.682   22  Positive\n",
       "596    0   67  76   0    0  45.3  0.194   46  Negative\n",
       "597    1   89  24  19   25  27.8  0.559   21  Negative\n",
       "598    1  173  74   0    0  36.8  0.088   38  Positive\n",
       "\n",
       "[599 rows x 9 columns]"
      ]
     },
     "execution_count": 6,
     "metadata": {},
     "output_type": "execute_result"
    }
   ],
   "source": [
    "Sepssis_dataframe_with_features=Sepssis_dataframe.drop(['ID', 'Insurance'], axis=1)\n",
    "Sepssis_dataframe_with_features"
   ]
  },
  {
   "cell_type": "markdown",
   "id": "fd4e6b2c",
   "metadata": {},
   "source": [
    "Dropping ID and Insurance column from the data as they are not important features..."
   ]
  },
  {
   "cell_type": "markdown",
   "id": "ebc33f39",
   "metadata": {},
   "source": [
    "# Data Visualization"
   ]
  },
  {
   "cell_type": "code",
   "execution_count": 7,
   "id": "a9f6675a",
   "metadata": {},
   "outputs": [
    {
     "data": {
      "image/png": "[encoded data removed]",
      "text/plain": [
       "<Figure size 1440x1440 with 9 Axes>"
      ]
     },
     "metadata": {
      "needs_background": "light"
     },
     "output_type": "display_data"
    }
   ],
   "source": [
    "plt.figure(figsize=(20,20))\n",
    "for i, col_i in enumerate(Sepssis_dataframe_with_features.columns):\n",
    "    plt.subplot(3,3,i+1)\n",
    "    plt.hist(Sepssis_dataframe_with_features[col_i], alpha=0.5, color='gray', density=True, bins=8)\n",
    "    plt.title(col_i)\n",
    "    plt.xticks(rotation='vertical')"
   ]
  },
  {
   "cell_type": "markdown",
   "id": "38ef4dd7",
   "metadata": {},
   "source": [
    "- The target column sepssis is categorical variable.\n",
    "- Many attributes are heavily skewed. eg. PRG, SK, TS, BD2, Age.\n"
   ]
  },
  {
   "cell_type": "code",
   "execution_count": 8,
   "id": "ce3715bf",
   "metadata": {},
   "outputs": [
    {
     "data": {
      "image/png": "[encoded data removed]",
      "text/plain": [
       "<Figure size 720x360 with 1 Axes>"
      ]
     },
     "metadata": {
      "needs_background": "light"
     },
     "output_type": "display_data"
    }
   ],
   "source": [
    "plt.figure(figsize=(10,5))\n",
    "plt.xlim(0,100)\n",
    "plt.xlabel('Age')\n",
    "plt.ylabel('Density')\n",
    "sns.kdeplot(Sepssis_dataframe_with_features['Age'],shade=True)\n",
    "plt.show()"
   ]
  },
  {
   "cell_type": "markdown",
   "id": "ff520a0b",
   "metadata": {},
   "source": [
    "Most patients are of Young age. They lie between 20 to 35.."
   ]
  },
  {
   "cell_type": "code",
   "execution_count": 9,
   "id": "41b56d77",
   "metadata": {},
   "outputs": [
    {
     "data": {
      "image/png": "[encoded data removed]",
      "text/plain": [
       "<Figure size 1440x1800 with 8 Axes>"
      ]
     },
     "metadata": {
      "needs_background": "light"
     },
     "output_type": "display_data"
    }
   ],
   "source": [
    "\n",
    "plt.figure(figsize=(20,25))\n",
    "i=1\n",
    "for column in Sepssis_dataframe_with_features.columns:\n",
    "  \n",
    "  if column != 'Sepssis':\n",
    "    plt.subplot(3,3,i)\n",
    "    sns.boxplot(x='Sepssis',y=column,data=Sepssis_dataframe_with_features)\n",
    "    i = i+1\n",
    "    plt.title(column)\n",
    "\n",
    "plt.show()"
   ]
  },
  {
   "cell_type": "markdown",
   "id": "a2a00b87",
   "metadata": {},
   "source": [
    "- Plasma Glucose of Patients having Sepssis is higher than the Patients who don't have Sepssis.\n",
    "- Blood Work Result-1 of Patients not having Sepssis is lower as compared to the Sepssis Patients.\n",
    "- Both Blood Pressure and Blood Result-2 are almost Equivalent for Both Positive and Negative Patients.\n",
    "- Young Patients Largely don't Delevop Sepssis."
   ]
  },
  {
   "cell_type": "code",
   "execution_count": 10,
   "id": "56ab50e0",
   "metadata": {},
   "outputs": [
    {
     "data": {
      "image/png": "[encoded data removed]",
      "text/plain": [
       "<Figure size 432x288 with 2 Axes>"
      ]
     },
     "metadata": {
      "needs_background": "light"
     },
     "output_type": "display_data"
    }
   ],
   "source": [
    "dataplot = sns.heatmap(Sepssis_dataframe_with_features.corr(), cmap=\"Greens\", annot=True)\n",
    "  \n",
    "# displaying heatmap\n",
    "plt.show()"
   ]
  },
  {
   "cell_type": "markdown",
   "id": "09ebc7ac",
   "metadata": {},
   "source": [
    "- Attributes having high correlation between them are 1) PRG and Age 2) SK and TS.\n",
    "- Other Attibutes have very small positive and negative correlation between them."
   ]
  },
  {
   "cell_type": "code",
   "execution_count": 11,
   "id": "c5b5559e",
   "metadata": {},
   "outputs": [
    {
     "data": {
      "text/html": [
       "<div>\n",
       "<style scoped>\n",
       "    .dataframe tbody tr th:only-of-type {\n",
       "        vertical-align: middle;\n",
       "    }\n",
       "\n",
       "    .dataframe tbody tr th {\n",
       "        vertical-align: top;\n",
       "    }\n",
       "\n",
       "    .dataframe thead th {\n",
       "        text-align: right;\n",
       "    }\n",
       "</style>\n",
       "<table border=\"1\" class=\"dataframe\">\n",
       "  <thead>\n",
       "    <tr style=\"text-align: right;\">\n",
       "      <th></th>\n",
       "      <th>PRG</th>\n",
       "      <th>PL</th>\n",
       "      <th>PR</th>\n",
       "      <th>SK</th>\n",
       "      <th>TS</th>\n",
       "      <th>M11</th>\n",
       "      <th>BD2</th>\n",
       "      <th>Age</th>\n",
       "      <th>Sepssis</th>\n",
       "    </tr>\n",
       "  </thead>\n",
       "  <tbody>\n",
       "    <tr>\n",
       "      <th>0</th>\n",
       "      <td>6</td>\n",
       "      <td>148</td>\n",
       "      <td>72</td>\n",
       "      <td>35</td>\n",
       "      <td>0</td>\n",
       "      <td>33.6</td>\n",
       "      <td>0.627</td>\n",
       "      <td>50</td>\n",
       "      <td>1</td>\n",
       "    </tr>\n",
       "    <tr>\n",
       "      <th>1</th>\n",
       "      <td>1</td>\n",
       "      <td>85</td>\n",
       "      <td>66</td>\n",
       "      <td>29</td>\n",
       "      <td>0</td>\n",
       "      <td>26.6</td>\n",
       "      <td>0.351</td>\n",
       "      <td>31</td>\n",
       "      <td>0</td>\n",
       "    </tr>\n",
       "    <tr>\n",
       "      <th>2</th>\n",
       "      <td>8</td>\n",
       "      <td>183</td>\n",
       "      <td>64</td>\n",
       "      <td>0</td>\n",
       "      <td>0</td>\n",
       "      <td>23.3</td>\n",
       "      <td>0.672</td>\n",
       "      <td>32</td>\n",
       "      <td>1</td>\n",
       "    </tr>\n",
       "    <tr>\n",
       "      <th>3</th>\n",
       "      <td>1</td>\n",
       "      <td>89</td>\n",
       "      <td>66</td>\n",
       "      <td>23</td>\n",
       "      <td>94</td>\n",
       "      <td>28.1</td>\n",
       "      <td>0.167</td>\n",
       "      <td>21</td>\n",
       "      <td>0</td>\n",
       "    </tr>\n",
       "    <tr>\n",
       "      <th>4</th>\n",
       "      <td>0</td>\n",
       "      <td>137</td>\n",
       "      <td>40</td>\n",
       "      <td>35</td>\n",
       "      <td>168</td>\n",
       "      <td>43.1</td>\n",
       "      <td>2.288</td>\n",
       "      <td>33</td>\n",
       "      <td>1</td>\n",
       "    </tr>\n",
       "    <tr>\n",
       "      <th>...</th>\n",
       "      <td>...</td>\n",
       "      <td>...</td>\n",
       "      <td>...</td>\n",
       "      <td>...</td>\n",
       "      <td>...</td>\n",
       "      <td>...</td>\n",
       "      <td>...</td>\n",
       "      <td>...</td>\n",
       "      <td>...</td>\n",
       "    </tr>\n",
       "    <tr>\n",
       "      <th>594</th>\n",
       "      <td>6</td>\n",
       "      <td>123</td>\n",
       "      <td>72</td>\n",
       "      <td>45</td>\n",
       "      <td>230</td>\n",
       "      <td>33.6</td>\n",
       "      <td>0.733</td>\n",
       "      <td>34</td>\n",
       "      <td>0</td>\n",
       "    </tr>\n",
       "    <tr>\n",
       "      <th>595</th>\n",
       "      <td>0</td>\n",
       "      <td>188</td>\n",
       "      <td>82</td>\n",
       "      <td>14</td>\n",
       "      <td>185</td>\n",
       "      <td>32.0</td>\n",
       "      <td>0.682</td>\n",
       "      <td>22</td>\n",
       "      <td>1</td>\n",
       "    </tr>\n",
       "    <tr>\n",
       "      <th>596</th>\n",
       "      <td>0</td>\n",
       "      <td>67</td>\n",
       "      <td>76</td>\n",
       "      <td>0</td>\n",
       "      <td>0</td>\n",
       "      <td>45.3</td>\n",
       "      <td>0.194</td>\n",
       "      <td>46</td>\n",
       "      <td>0</td>\n",
       "    </tr>\n",
       "    <tr>\n",
       "      <th>597</th>\n",
       "      <td>1</td>\n",
       "      <td>89</td>\n",
       "      <td>24</td>\n",
       "      <td>19</td>\n",
       "      <td>25</td>\n",
       "      <td>27.8</td>\n",
       "      <td>0.559</td>\n",
       "      <td>21</td>\n",
       "      <td>0</td>\n",
       "    </tr>\n",
       "    <tr>\n",
       "      <th>598</th>\n",
       "      <td>1</td>\n",
       "      <td>173</td>\n",
       "      <td>74</td>\n",
       "      <td>0</td>\n",
       "      <td>0</td>\n",
       "      <td>36.8</td>\n",
       "      <td>0.088</td>\n",
       "      <td>38</td>\n",
       "      <td>1</td>\n",
       "    </tr>\n",
       "  </tbody>\n",
       "</table>\n",
       "<p>599 rows × 9 columns</p>\n",
       "</div>"
      ],
      "text/plain": [
       "     PRG   PL  PR  SK   TS   M11    BD2  Age  Sepssis\n",
       "0      6  148  72  35    0  33.6  0.627   50        1\n",
       "1      1   85  66  29    0  26.6  0.351   31        0\n",
       "2      8  183  64   0    0  23.3  0.672   32        1\n",
       "3      1   89  66  23   94  28.1  0.167   21        0\n",
       "4      0  137  40  35  168  43.1  2.288   33        1\n",
       "..   ...  ...  ..  ..  ...   ...    ...  ...      ...\n",
       "594    6  123  72  45  230  33.6  0.733   34        0\n",
       "595    0  188  82  14  185  32.0  0.682   22        1\n",
       "596    0   67  76   0    0  45.3  0.194   46        0\n",
       "597    1   89  24  19   25  27.8  0.559   21        0\n",
       "598    1  173  74   0    0  36.8  0.088   38        1\n",
       "\n",
       "[599 rows x 9 columns]"
      ]
     },
     "execution_count": 11,
     "metadata": {},
     "output_type": "execute_result"
    }
   ],
   "source": [
    "Sepssis_dataframe_with_features[\"Sepssis\"].replace({\"Positive\": 1, \"Negative\": 0}, inplace=True)\n",
    "Sepssis_dataframe_with_features"
   ]
  },
  {
   "cell_type": "markdown",
   "id": "66b6d72f",
   "metadata": {},
   "source": [
    "Replacing the target values into binary values 1 and 0 for building the classification model"
   ]
  },
  {
   "cell_type": "markdown",
   "id": "d0e9708b",
   "metadata": {},
   "source": [
    "# Splitting the data "
   ]
  },
  {
   "cell_type": "code",
   "execution_count": 12,
   "id": "7ad21b6e",
   "metadata": {},
   "outputs": [
    {
     "name": "stdout",
     "output_type": "stream",
     "text": [
      "383 96 120\n"
     ]
    }
   ],
   "source": [
    "from sklearn.model_selection import train_test_split\n",
    "\n",
    "\n",
    "training_data, testing_data = train_test_split(Sepssis_dataframe_with_features, test_size=0.20, shuffle=True,random_state=0)\n",
    "    \n",
    "training_data, validation_data = train_test_split(training_data, test_size=0.20, shuffle=True,random_state=0)\n",
    "    \n",
    "print(training_data.shape[0], validation_data.shape[0], testing_data.shape[0])"
   ]
  },
  {
   "cell_type": "code",
   "execution_count": 13,
   "id": "682db6a7",
   "metadata": {},
   "outputs": [],
   "source": [
    "training_X =training_data.drop(['Sepssis',], axis =1).to_numpy()\n",
    "training_y = training_data[['Sepssis']].to_numpy()\n",
    "\n",
    "\n",
    "testing_X = testing_data.drop(['Sepssis',], axis=1).to_numpy()\n",
    "testing_y = testing_data[['Sepssis']].to_numpy()\n",
    "\n",
    "\n",
    "validation_X = validation_data.drop(['Sepssis',], axis=1).to_numpy()\n",
    "validation_y = validation_data[['Sepssis']].to_numpy()"
   ]
  },
  {
   "cell_type": "markdown",
   "id": "54daaa61",
   "metadata": {},
   "source": [
    "Converting the training, testing and validation data to np arrays respectively "
   ]
  },
  {
   "cell_type": "code",
   "execution_count": 14,
   "id": "3176ad21",
   "metadata": {},
   "outputs": [],
   "source": [
    "from sklearn.metrics import f1_score\n",
    "# function for getting accuracy\n",
    "def get_accuracy_score(clf, training_X, training_y, validation_X, validation_y):\n",
    "    training_prediction = clf.predict(training_X)\n",
    "    val_prediction = clf.predict(validation_X)\n",
    "    \n",
    "    training_f1 = f1_score(training_y, training_prediction, average='macro')\n",
    "    validation_f1 = f1_score(validation_y, val_prediction, average='macro')\n",
    "    \n",
    "    return training_f1, validation_f1"
   ]
  },
  {
   "cell_type": "markdown",
   "id": "5c798c89",
   "metadata": {},
   "source": [
    "# Baseline model"
   ]
  },
  {
   "cell_type": "markdown",
   "id": "4a06474c",
   "metadata": {},
   "source": [
    "Selecting logistic regression for the mentioned task as the Baseline model."
   ]
  },
  {
   "cell_type": "markdown",
   "id": "bf366ce9",
   "metadata": {},
   "source": [
    "# Scaling features"
   ]
  },
  {
   "cell_type": "code",
   "execution_count": 15,
   "id": "dde35d9c",
   "metadata": {},
   "outputs": [],
   "source": [
    "from sklearn.preprocessing import MinMaxScaler\n",
    "scaler = MinMaxScaler()\n",
    "scaler.fit(training_X)\n",
    "\n",
    "training_X = scaler.transform(training_X)\n",
    "validation_X = scaler.transform(validation_X)\n",
    "testing_X = scaler.transform(testing_X)"
   ]
  },
  {
   "cell_type": "code",
   "execution_count": 16,
   "id": "6b5ceda4",
   "metadata": {},
   "outputs": [
    {
     "name": "stdout",
     "output_type": "stream",
     "text": [
      "Train F1-Score score: 0.740\n",
      "Validation F1-Score score: 0.661\n"
     ]
    }
   ],
   "source": [
    "from sklearn.linear_model import LogisticRegression\n",
    "Model = LogisticRegression()\n",
    "clf = LogisticRegression(random_state=0, penalty='none', solver='saga', \n",
    "                         max_iter=1000, \n",
    "                         class_weight='balanced').fit(training_X, training_y.ravel())\n",
    "\n",
    "train_f1, val_f1 = get_accuracy_score(clf, training_X, training_y, validation_X, validation_y)\n",
    "print(\"Train F1-Score score: {:.3f}\".format(train_f1))\n",
    "print(\"Validation F1-Score score: {:.3f}\".format(val_f1))"
   ]
  },
  {
   "cell_type": "markdown",
   "id": "52f93000",
   "metadata": {},
   "source": [
    "# Regularisation"
   ]
  },
  {
   "cell_type": "code",
   "execution_count": 17,
   "id": "9120b43e",
   "metadata": {},
   "outputs": [],
   "source": [
    "params_grid=[\n",
    "    {\n",
    "        'penalty' : ['l1', 'l2', 'elasticnet', 'none'],\n",
    "        'C' : np.logspace(-4,4,20),\n",
    "        'solver' : ['lbfgs','newton-cg','liblinear','sag','saga'],\n",
    "        'max_iter' : [100,500,700]\n",
    "    }\n",
    "]"
   ]
  },
  {
   "cell_type": "markdown",
   "id": "7c13aa55",
   "metadata": {},
   "source": [
    "The accuracy of  un-regularised model shows good training performance but still the gap between training and validation indicates that regularisation must be applied."
   ]
  },
  {
   "cell_type": "code",
   "execution_count": 18,
   "id": "270d25f1",
   "metadata": {},
   "outputs": [
    {
     "name": "stdout",
     "output_type": "stream",
     "text": [
      "Fitting 5 folds for each of 1200 candidates, totalling 6000 fits\n"
     ]
    }
   ],
   "source": [
    "from sklearn.model_selection import GridSearchCV\n",
    "clf = GridSearchCV(Model, param_grid = params_grid, cv =5, verbose = True, n_jobs =-1 )\n",
    "best_clf = clf.fit(training_X,training_y.ravel())"
   ]
  },
  {
   "cell_type": "markdown",
   "id": "4532c614",
   "metadata": {},
   "source": [
    "Using GridSearch for applying regularisation and using 5 folds at time"
   ]
  },
  {
   "cell_type": "code",
   "execution_count": 19,
   "id": "e5b7b8a3",
   "metadata": {},
   "outputs": [
    {
     "data": {
      "text/plain": [
       "LogisticRegression(C=0.0001, penalty='none')"
      ]
     },
     "execution_count": 19,
     "metadata": {},
     "output_type": "execute_result"
    }
   ],
   "source": [
    "best_clf.best_estimator_"
   ]
  },
  {
   "cell_type": "code",
   "execution_count": 20,
   "id": "fe1b0a05",
   "metadata": {},
   "outputs": [
    {
     "name": "stdout",
     "output_type": "stream",
     "text": [
      "Accuracy : 0.786\n"
     ]
    }
   ],
   "source": [
    "print(f'Accuracy : {best_clf.score(training_X,training_y):.3f}')"
   ]
  },
  {
   "cell_type": "markdown",
   "id": "2934961e",
   "metadata": {},
   "source": [
    "When tuning different parameters it was found that model had best accuracy when  gridsearch was applied to the baseline model with C=0.0001 and penalty = none\n",
    "                        "
   ]
  },
  {
   "cell_type": "markdown",
   "id": "041165a8",
   "metadata": {},
   "source": [
    "# K-Fold Cross Validation\n"
   ]
  },
  {
   "cell_type": "code",
   "execution_count": 21,
   "id": "54fe3e7c",
   "metadata": {},
   "outputs": [
    {
     "name": "stdout",
     "output_type": "stream",
     "text": [
      "Fitting 5 folds for each of 1200 candidates, totalling 6000 fits\n",
      "Fitting 5 folds for each of 1200 candidates, totalling 6000 fits\n",
      "Fitting 5 folds for each of 1200 candidates, totalling 6000 fits\n",
      "Fitting 5 folds for each of 1200 candidates, totalling 6000 fits\n",
      "Fitting 5 folds for each of 1200 candidates, totalling 6000 fits\n",
      "Cross validation Error: 0.7858851674641149\n"
     ]
    }
   ],
   "source": [
    "from sklearn.model_selection import KFold\n",
    "from sklearn.metrics import accuracy_score\n",
    "# Using f folds at time\n",
    "kf = KFold(n_splits=5)\n",
    "score_hold_val = list()\n",
    "score_hold_train = list()\n",
    "\n",
    "# looping through index of each set\n",
    "for train_index, val_index in kf.split(training_X):\n",
    "    training_x_split = training_X[train_index,:]\n",
    "    training_y_split = training_y[train_index,:]\n",
    "    validation_x_split = training_X[val_index,:]\n",
    "    validation_y_split = training_y[val_index,:]\n",
    "    clf = GridSearchCV(Model, param_grid = params_grid, cv =5, verbose = True, n_jobs =-1 )\n",
    "    best_clf = clf.fit(training_X,training_y.ravel())\n",
    "    \n",
    "    train_pred = clf.predict(training_x_split)\n",
    "    val_pred = clf.predict(validation_x_split)\n",
    "    \n",
    "    train_acc = accuracy_score(training_y_split, train_pred)\n",
    "    val_acc = accuracy_score(validation_y_split, val_pred)\n",
    "    \n",
    "    score_hold_train.append(train_acc)\n",
    "    score_hold_val.append(val_acc)\n",
    "    \n",
    "print('Cross validation Error: ' + str(np.mean(score_hold_val)))"
   ]
  },
  {
   "cell_type": "markdown",
   "id": "fd5dc391",
   "metadata": {},
   "source": [
    "# Decision Tree\n",
    "\n"
   ]
  },
  {
   "cell_type": "code",
   "execution_count": 22,
   "id": "3fa308b1",
   "metadata": {},
   "outputs": [
    {
     "name": "stdout",
     "output_type": "stream",
     "text": [
      "Maximum accuracy:- 0.7416666666666667 ,min_samples_split = 3 , criterion is entropy\n"
     ]
    },
    {
     "data": {
      "image/png": "[encoded data removed]",
      "text/plain": [
       "<Figure size 720x432 with 1 Axes>"
      ]
     },
     "metadata": {
      "needs_background": "light"
     },
     "output_type": "display_data"
    }
   ],
   "source": [
    "from sklearn import tree\n",
    "from sklearn.tree import DecisionTreeClassifier\n",
    "from sklearn import metrics\n",
    "from sklearn.utils import shuffle\n",
    "from sklearn.metrics import confusion_matrix,classification_report\n",
    "\n",
    "\n",
    "acc = []\n",
    "\n",
    "for i in range(2,10):\n",
    "    clf=DecisionTreeClassifier(criterion=\"entropy\",min_samples_split=i)\n",
    "    clf=clf.fit(training_X,training_y)\n",
    "    y_pred=clf.predict(testing_X)\n",
    "    acc.append(metrics.accuracy_score(testing_y, y_pred))\n",
    "    \n",
    "plt.figure(figsize=(10,6))\n",
    "plt.plot(range(2,10),acc,color='blue', \n",
    "         marker='o',markerfacecolor='green',linestyle='dashed', markersize=10)\n",
    "plt.title('Accuracy vs. Min Split size with criterion as Entropy' ,fontsize=20)\n",
    "plt.xlabel('Min Split size',fontsize=14)\n",
    "plt.ylabel('Accuracy',fontsize=14)\n",
    "print(\"Maximum accuracy:-\",max(acc),\",min_samples_split =\",acc.index(max(acc)) +2,\", criterion is entropy\" )\n",
    "\n",
    "maxium_accuracy_entropy = max(acc)\n",
    "split_size_entropy = acc.index(max(acc)) +2"
   ]
  },
  {
   "cell_type": "code",
   "execution_count": 23,
   "id": "72327387",
   "metadata": {},
   "outputs": [],
   "source": [
    "from sklearn.metrics import balanced_accuracy_score\n",
    "# function for getting accuracy\n",
    "def get_accuracy_score(clf, training_X, training_y, validation_X, validation_y):\n",
    "    train_pred = clf.predict(training_X)\n",
    "    val_pred = clf.predict(validation_X)\n",
    "    \n",
    "    train_acc = balanced_accuracy_score(training_y, train_pred)\n",
    "    val_acc = balanced_accuracy_score(validation_y, val_pred)\n",
    "    \n",
    "    return train_acc, val_acc"
   ]
  },
  {
   "cell_type": "markdown",
   "id": "ef0a1bec",
   "metadata": {},
   "source": [
    "# Random Forest"
   ]
  },
  {
   "cell_type": "code",
   "execution_count": 24,
   "id": "545634ec",
   "metadata": {},
   "outputs": [
    {
     "name": "stdout",
     "output_type": "stream",
     "text": [
      "Validation Accuracy score: 0.558\n",
      "Validation Accuracy score: 0.594\n",
      "Validation Accuracy score: 0.616\n",
      "Validation Accuracy score: 0.559\n",
      "Validation Accuracy score: 0.566\n",
      "Validation Accuracy score: 0.665\n",
      "Validation Accuracy score: 0.536\n",
      "Validation Accuracy score: 0.629\n",
      "Validation Accuracy score: 0.588\n",
      "Validation Accuracy score: 0.546\n"
     ]
    }
   ],
   "source": [
    "N, m = training_X.shape\n",
    "num_of_trees = 10\n",
    "clfs = list()\n",
    "column_index = list()\n",
    "validation_acc_hold = list()\n",
    "for i in range(0,num_of_trees):\n",
    "    data_index = np.random.choice(N, N, replace=True)\n",
    "    col_index = np.random.choice(m, np.floor(m/2).astype(np.int), replace=False)\n",
    "\n",
    "    X_train1 = training_X[data_index, :][:, col_index]\n",
    "\n",
    "    clf = tree.DecisionTreeClassifier(criterion='entropy', max_depth=5)\n",
    "    clf = clf.fit(X_train1, training_y[data_index].ravel())\n",
    "    \n",
    "    clfs.append(clf)\n",
    "    column_index.append(column_index)\n",
    "\n",
    "    X_val1 = validation_X[:, col_index]\n",
    "\n",
    "    train_acc, val_acc = get_accuracy_score(clf, X_train1, training_y[data_index].ravel(), X_val1, validation_y)\n",
    "    print(\"Validation Accuracy score: {:.3f}\".format(val_acc))\n",
    "    validation_acc_hold.append(val_acc)"
   ]
  },
  {
   "cell_type": "code",
   "execution_count": 25,
   "id": "d5ba58cd",
   "metadata": {},
   "outputs": [
    {
     "data": {
      "text/plain": [
       "RandomForestClassifier(max_depth=5, random_state=0)"
      ]
     },
     "execution_count": 25,
     "metadata": {},
     "output_type": "execute_result"
    }
   ],
   "source": [
    "from sklearn.ensemble import RandomForestClassifier\n",
    "clf = RandomForestClassifier(max_depth=5, random_state=0)\n",
    "clf.fit(training_X, training_y)"
   ]
  },
  {
   "cell_type": "code",
   "execution_count": 26,
   "id": "7dd07024",
   "metadata": {},
   "outputs": [
    {
     "name": "stdout",
     "output_type": "stream",
     "text": [
      "Train Accuracy score: 0.847\n",
      "Validation Accuracy score: 0.707\n"
     ]
    }
   ],
   "source": [
    "train_acc, val_acc = get_accuracy_score(clf, training_X, training_y, validation_X, validation_y)\n",
    "print(\"Train Accuracy score: {:.3f}\".format(train_acc))\n",
    "print(\"Validation Accuracy score: {:.3f}\".format(val_acc))"
   ]
  },
  {
   "cell_type": "markdown",
   "id": "f8606af7",
   "metadata": {},
   "source": [
    "# Ultimate Judgement"
   ]
  },
  {
   "cell_type": "markdown",
   "id": "5b4cdfbf",
   "metadata": {},
   "source": [
    "From all of the above scenario it can be seen that the best model is the random forest. The model Accuracy is great and the model is not overfitted but it is efficient .Also the gap between train and validation is not too much. Hence Selecting it as the best Model for this Task.."
   ]
  },
  {
   "cell_type": "markdown",
   "id": "e7b3eee8",
   "metadata": {},
   "source": [
    "# Testing On Test Data Set "
   ]
  },
  {
   "cell_type": "code",
   "execution_count": 27,
   "id": "b81b2267",
   "metadata": {},
   "outputs": [
    {
     "data": {
      "text/html": [
       "<div>\n",
       "<style scoped>\n",
       "    .dataframe tbody tr th:only-of-type {\n",
       "        vertical-align: middle;\n",
       "    }\n",
       "\n",
       "    .dataframe tbody tr th {\n",
       "        vertical-align: top;\n",
       "    }\n",
       "\n",
       "    .dataframe thead th {\n",
       "        text-align: right;\n",
       "    }\n",
       "</style>\n",
       "<table border=\"1\" class=\"dataframe\">\n",
       "  <thead>\n",
       "    <tr style=\"text-align: right;\">\n",
       "      <th></th>\n",
       "      <th>ID</th>\n",
       "      <th>PRG</th>\n",
       "      <th>PL</th>\n",
       "      <th>PR</th>\n",
       "      <th>SK</th>\n",
       "      <th>TS</th>\n",
       "      <th>M11</th>\n",
       "      <th>BD2</th>\n",
       "      <th>Age</th>\n",
       "      <th>Insurance</th>\n",
       "    </tr>\n",
       "  </thead>\n",
       "  <tbody>\n",
       "    <tr>\n",
       "      <th>0</th>\n",
       "      <td>ICU200609</td>\n",
       "      <td>1</td>\n",
       "      <td>109</td>\n",
       "      <td>38</td>\n",
       "      <td>18</td>\n",
       "      <td>120</td>\n",
       "      <td>23.1</td>\n",
       "      <td>0.407</td>\n",
       "      <td>26</td>\n",
       "      <td>1</td>\n",
       "    </tr>\n",
       "    <tr>\n",
       "      <th>1</th>\n",
       "      <td>ICU200610</td>\n",
       "      <td>1</td>\n",
       "      <td>108</td>\n",
       "      <td>88</td>\n",
       "      <td>19</td>\n",
       "      <td>0</td>\n",
       "      <td>27.1</td>\n",
       "      <td>0.400</td>\n",
       "      <td>24</td>\n",
       "      <td>1</td>\n",
       "    </tr>\n",
       "    <tr>\n",
       "      <th>2</th>\n",
       "      <td>ICU200611</td>\n",
       "      <td>6</td>\n",
       "      <td>96</td>\n",
       "      <td>0</td>\n",
       "      <td>0</td>\n",
       "      <td>0</td>\n",
       "      <td>23.7</td>\n",
       "      <td>0.190</td>\n",
       "      <td>28</td>\n",
       "      <td>1</td>\n",
       "    </tr>\n",
       "    <tr>\n",
       "      <th>3</th>\n",
       "      <td>ICU200612</td>\n",
       "      <td>1</td>\n",
       "      <td>124</td>\n",
       "      <td>74</td>\n",
       "      <td>36</td>\n",
       "      <td>0</td>\n",
       "      <td>27.8</td>\n",
       "      <td>0.100</td>\n",
       "      <td>30</td>\n",
       "      <td>1</td>\n",
       "    </tr>\n",
       "    <tr>\n",
       "      <th>4</th>\n",
       "      <td>ICU200613</td>\n",
       "      <td>7</td>\n",
       "      <td>150</td>\n",
       "      <td>78</td>\n",
       "      <td>29</td>\n",
       "      <td>126</td>\n",
       "      <td>35.2</td>\n",
       "      <td>0.692</td>\n",
       "      <td>54</td>\n",
       "      <td>0</td>\n",
       "    </tr>\n",
       "    <tr>\n",
       "      <th>5</th>\n",
       "      <td>ICU200614</td>\n",
       "      <td>4</td>\n",
       "      <td>183</td>\n",
       "      <td>0</td>\n",
       "      <td>0</td>\n",
       "      <td>0</td>\n",
       "      <td>28.4</td>\n",
       "      <td>0.212</td>\n",
       "      <td>36</td>\n",
       "      <td>1</td>\n",
       "    </tr>\n",
       "    <tr>\n",
       "      <th>6</th>\n",
       "      <td>ICU200615</td>\n",
       "      <td>1</td>\n",
       "      <td>124</td>\n",
       "      <td>60</td>\n",
       "      <td>32</td>\n",
       "      <td>0</td>\n",
       "      <td>35.8</td>\n",
       "      <td>0.514</td>\n",
       "      <td>21</td>\n",
       "      <td>1</td>\n",
       "    </tr>\n",
       "    <tr>\n",
       "      <th>7</th>\n",
       "      <td>ICU200616</td>\n",
       "      <td>1</td>\n",
       "      <td>181</td>\n",
       "      <td>78</td>\n",
       "      <td>42</td>\n",
       "      <td>293</td>\n",
       "      <td>40.0</td>\n",
       "      <td>1.258</td>\n",
       "      <td>22</td>\n",
       "      <td>1</td>\n",
       "    </tr>\n",
       "    <tr>\n",
       "      <th>8</th>\n",
       "      <td>ICU200617</td>\n",
       "      <td>1</td>\n",
       "      <td>92</td>\n",
       "      <td>62</td>\n",
       "      <td>25</td>\n",
       "      <td>41</td>\n",
       "      <td>19.5</td>\n",
       "      <td>0.482</td>\n",
       "      <td>25</td>\n",
       "      <td>0</td>\n",
       "    </tr>\n",
       "    <tr>\n",
       "      <th>9</th>\n",
       "      <td>ICU200618</td>\n",
       "      <td>0</td>\n",
       "      <td>152</td>\n",
       "      <td>82</td>\n",
       "      <td>39</td>\n",
       "      <td>272</td>\n",
       "      <td>41.5</td>\n",
       "      <td>0.270</td>\n",
       "      <td>27</td>\n",
       "      <td>0</td>\n",
       "    </tr>\n",
       "  </tbody>\n",
       "</table>\n",
       "</div>"
      ],
      "text/plain": [
       "          ID  PRG   PL  PR  SK   TS   M11    BD2  Age  Insurance\n",
       "0  ICU200609    1  109  38  18  120  23.1  0.407   26          1\n",
       "1  ICU200610    1  108  88  19    0  27.1  0.400   24          1\n",
       "2  ICU200611    6   96   0   0    0  23.7  0.190   28          1\n",
       "3  ICU200612    1  124  74  36    0  27.8  0.100   30          1\n",
       "4  ICU200613    7  150  78  29  126  35.2  0.692   54          0\n",
       "5  ICU200614    4  183   0   0    0  28.4  0.212   36          1\n",
       "6  ICU200615    1  124  60  32    0  35.8  0.514   21          1\n",
       "7  ICU200616    1  181  78  42  293  40.0  1.258   22          1\n",
       "8  ICU200617    1   92  62  25   41  19.5  0.482   25          0\n",
       "9  ICU200618    0  152  82  39  272  41.5  0.270   27          0"
      ]
     },
     "execution_count": 27,
     "metadata": {},
     "output_type": "execute_result"
    }
   ],
   "source": [
    "Sepssis_test_df=pd.read_csv('Paitients_Files_Test.csv')\n",
    "Sepssis_test_df.head(10)"
   ]
  },
  {
   "cell_type": "markdown",
   "id": "a04c68d9",
   "metadata": {},
   "source": [
    "Loading The test dataset into dataframe."
   ]
  },
  {
   "cell_type": "code",
   "execution_count": 28,
   "id": "3eb54fcb",
   "metadata": {},
   "outputs": [
    {
     "name": "stdout",
     "output_type": "stream",
     "text": [
      "<class 'pandas.core.frame.DataFrame'>\n",
      "RangeIndex: 169 entries, 0 to 168\n",
      "Data columns (total 10 columns):\n",
      " #   Column     Non-Null Count  Dtype  \n",
      "---  ------     --------------  -----  \n",
      " 0   ID         169 non-null    object \n",
      " 1   PRG        169 non-null    int64  \n",
      " 2   PL         169 non-null    int64  \n",
      " 3   PR         169 non-null    int64  \n",
      " 4   SK         169 non-null    int64  \n",
      " 5   TS         169 non-null    int64  \n",
      " 6   M11        169 non-null    float64\n",
      " 7   BD2        169 non-null    float64\n",
      " 8   Age        169 non-null    int64  \n",
      " 9   Insurance  169 non-null    int64  \n",
      "dtypes: float64(2), int64(7), object(1)\n",
      "memory usage: 13.3+ KB\n"
     ]
    }
   ],
   "source": [
    "Sepssis_test_df.info()"
   ]
  },
  {
   "cell_type": "markdown",
   "id": "526de126",
   "metadata": {},
   "source": [
    "None of the columns in the dataset have null values.."
   ]
  },
  {
   "cell_type": "code",
   "execution_count": 29,
   "id": "34fc4028",
   "metadata": {},
   "outputs": [
    {
     "name": "stdout",
     "output_type": "stream",
     "text": [
      "(169, 8)\n"
     ]
    }
   ],
   "source": [
    "Sepssis_test_df_with_features = Sepssis_test_df.drop(['ID', 'Insurance'],axis =1)\n",
    "test_x = np.array( Sepssis_test_df.drop(['ID', 'Insurance'],axis =1))\n",
    "print(test_x.shape)\n"
   ]
  },
  {
   "cell_type": "markdown",
   "id": "3492a47d",
   "metadata": {},
   "source": [
    "Dropping the Un-important features from the dataframe and converting them into np array."
   ]
  },
  {
   "cell_type": "markdown",
   "id": "3482c168",
   "metadata": {},
   "source": [
    "# Final Testing on the Best Model Build(Random Forest)"
   ]
  },
  {
   "cell_type": "code",
   "execution_count": 30,
   "id": "3023f9fa",
   "metadata": {},
   "outputs": [
    {
     "data": {
      "text/html": [
       "<div>\n",
       "<style scoped>\n",
       "    .dataframe tbody tr th:only-of-type {\n",
       "        vertical-align: middle;\n",
       "    }\n",
       "\n",
       "    .dataframe tbody tr th {\n",
       "        vertical-align: top;\n",
       "    }\n",
       "\n",
       "    .dataframe thead th {\n",
       "        text-align: right;\n",
       "    }\n",
       "</style>\n",
       "<table border=\"1\" class=\"dataframe\">\n",
       "  <thead>\n",
       "    <tr style=\"text-align: right;\">\n",
       "      <th></th>\n",
       "      <th>PRG</th>\n",
       "      <th>PL</th>\n",
       "      <th>PR</th>\n",
       "      <th>SK</th>\n",
       "      <th>TS</th>\n",
       "      <th>M11</th>\n",
       "      <th>BD2</th>\n",
       "      <th>Age</th>\n",
       "    </tr>\n",
       "  </thead>\n",
       "  <tbody>\n",
       "    <tr>\n",
       "      <th>0</th>\n",
       "      <td>1</td>\n",
       "      <td>109</td>\n",
       "      <td>38</td>\n",
       "      <td>18</td>\n",
       "      <td>120</td>\n",
       "      <td>23.1</td>\n",
       "      <td>0.407</td>\n",
       "      <td>26</td>\n",
       "    </tr>\n",
       "    <tr>\n",
       "      <th>1</th>\n",
       "      <td>1</td>\n",
       "      <td>108</td>\n",
       "      <td>88</td>\n",
       "      <td>19</td>\n",
       "      <td>0</td>\n",
       "      <td>27.1</td>\n",
       "      <td>0.400</td>\n",
       "      <td>24</td>\n",
       "    </tr>\n",
       "    <tr>\n",
       "      <th>2</th>\n",
       "      <td>6</td>\n",
       "      <td>96</td>\n",
       "      <td>0</td>\n",
       "      <td>0</td>\n",
       "      <td>0</td>\n",
       "      <td>23.7</td>\n",
       "      <td>0.190</td>\n",
       "      <td>28</td>\n",
       "    </tr>\n",
       "    <tr>\n",
       "      <th>3</th>\n",
       "      <td>1</td>\n",
       "      <td>124</td>\n",
       "      <td>74</td>\n",
       "      <td>36</td>\n",
       "      <td>0</td>\n",
       "      <td>27.8</td>\n",
       "      <td>0.100</td>\n",
       "      <td>30</td>\n",
       "    </tr>\n",
       "    <tr>\n",
       "      <th>4</th>\n",
       "      <td>7</td>\n",
       "      <td>150</td>\n",
       "      <td>78</td>\n",
       "      <td>29</td>\n",
       "      <td>126</td>\n",
       "      <td>35.2</td>\n",
       "      <td>0.692</td>\n",
       "      <td>54</td>\n",
       "    </tr>\n",
       "    <tr>\n",
       "      <th>...</th>\n",
       "      <td>...</td>\n",
       "      <td>...</td>\n",
       "      <td>...</td>\n",
       "      <td>...</td>\n",
       "      <td>...</td>\n",
       "      <td>...</td>\n",
       "      <td>...</td>\n",
       "      <td>...</td>\n",
       "    </tr>\n",
       "    <tr>\n",
       "      <th>164</th>\n",
       "      <td>10</td>\n",
       "      <td>101</td>\n",
       "      <td>76</td>\n",
       "      <td>48</td>\n",
       "      <td>180</td>\n",
       "      <td>32.9</td>\n",
       "      <td>0.171</td>\n",
       "      <td>63</td>\n",
       "    </tr>\n",
       "    <tr>\n",
       "      <th>165</th>\n",
       "      <td>2</td>\n",
       "      <td>122</td>\n",
       "      <td>70</td>\n",
       "      <td>27</td>\n",
       "      <td>0</td>\n",
       "      <td>36.8</td>\n",
       "      <td>0.340</td>\n",
       "      <td>27</td>\n",
       "    </tr>\n",
       "    <tr>\n",
       "      <th>166</th>\n",
       "      <td>5</td>\n",
       "      <td>121</td>\n",
       "      <td>72</td>\n",
       "      <td>23</td>\n",
       "      <td>112</td>\n",
       "      <td>26.2</td>\n",
       "      <td>0.245</td>\n",
       "      <td>30</td>\n",
       "    </tr>\n",
       "    <tr>\n",
       "      <th>167</th>\n",
       "      <td>1</td>\n",
       "      <td>126</td>\n",
       "      <td>60</td>\n",
       "      <td>0</td>\n",
       "      <td>0</td>\n",
       "      <td>30.1</td>\n",
       "      <td>0.349</td>\n",
       "      <td>47</td>\n",
       "    </tr>\n",
       "    <tr>\n",
       "      <th>168</th>\n",
       "      <td>1</td>\n",
       "      <td>93</td>\n",
       "      <td>70</td>\n",
       "      <td>31</td>\n",
       "      <td>0</td>\n",
       "      <td>30.4</td>\n",
       "      <td>0.315</td>\n",
       "      <td>23</td>\n",
       "    </tr>\n",
       "  </tbody>\n",
       "</table>\n",
       "<p>169 rows × 8 columns</p>\n",
       "</div>"
      ],
      "text/plain": [
       "     PRG   PL  PR  SK   TS   M11    BD2  Age\n",
       "0      1  109  38  18  120  23.1  0.407   26\n",
       "1      1  108  88  19    0  27.1  0.400   24\n",
       "2      6   96   0   0    0  23.7  0.190   28\n",
       "3      1  124  74  36    0  27.8  0.100   30\n",
       "4      7  150  78  29  126  35.2  0.692   54\n",
       "..   ...  ...  ..  ..  ...   ...    ...  ...\n",
       "164   10  101  76  48  180  32.9  0.171   63\n",
       "165    2  122  70  27    0  36.8  0.340   27\n",
       "166    5  121  72  23  112  26.2  0.245   30\n",
       "167    1  126  60   0    0  30.1  0.349   47\n",
       "168    1   93  70  31    0  30.4  0.315   23\n",
       "\n",
       "[169 rows x 8 columns]"
      ]
     },
     "execution_count": 30,
     "metadata": {},
     "output_type": "execute_result"
    }
   ],
   "source": [
    "Sepssis_test_df_with_features"
   ]
  },
  {
   "cell_type": "code",
   "execution_count": 31,
   "id": "b4020da0",
   "metadata": {},
   "outputs": [
    {
     "name": "stdout",
     "output_type": "stream",
     "text": [
      "[1, 1, 1, 1, 1, 1, 1, 1, 1, 1, 1, 1, 1, 1, 1, 1, 1, 1, 1, 1, 1, 1, 1, 1, 1, 1, 1, 1, 1, 1, 1, 1, 1, 1, 1, 1, 1, 1, 1, 1, 1, 1, 1, 1, 1, 1, 1, 1, 1, 1, 1, 1, 1, 1, 1, 1, 1, 1, 1, 1, 1, 1, 1, 1, 1, 1, 1, 1, 1, 1, 1, 1, 1, 1, 1, 1, 1, 1, 1, 1, 1, 1, 1, 1, 1, 0, 1, 1, 1, 1, 1, 1, 1, 1, 1, 1, 1, 1, 1, 1, 1, 1, 1, 1, 1, 1, 1, 0, 1, 1, 1, 1, 1, 1, 1, 1, 1, 1, 1, 1, 1, 1, 1, 1, 1, 1, 1, 1, 1, 1, 1, 1, 1, 1, 1, 1, 1, 1, 1, 1, 1, 1, 1, 1, 1, 1, 1, 1, 1, 1, 1, 1, 1, 1, 1, 1, 1, 1, 1, 1, 1, 1, 1, 1, 1, 1, 1, 1, 1]\n"
     ]
    }
   ],
   "source": [
    "from sklearn.metrics import classification_report\n",
    "clf =  RandomForestClassifier(max_depth=5, random_state=0)\n",
    "clf.fit(training_X, training_y)\n",
    "test_prediction = clf.predict(test_x)\n",
    "test_prediction = test_prediction.tolist()\n",
    "print(test_prediction)\n",
    "final_judgement = []\n",
    "for index in test_prediction:\n",
    "    if index ==1:\n",
    "        final_judgement.append(\"Positive\")\n",
    "    else:\n",
    "        final_judgement.append(\"Negative\")"
   ]
  },
  {
   "cell_type": "code",
   "execution_count": 32,
   "id": "8237b145",
   "metadata": {},
   "outputs": [],
   "source": [
    "result_df = pd.read_csv(\"S1234567 predictions.csv\")\n",
    "result_df[\"Sepssis\"] = final_judgement\n",
    "result_df.to_csv(\"S3856019_predictions.csv\", index=False)"
   ]
  },
  {
   "cell_type": "markdown",
   "id": "d8ce33bb",
   "metadata": {},
   "source": [
    "\n"
   ]
  }
 ],
 "metadata": {
  "kernelspec": {
   "display_name": "Python 3 (ipykernel)",
   "language": "python",
   "name": "python3"
  },
  "language_info": {
   "codemirror_mode": {
    "name": "ipython",
    "version": 3
   },
   "file_extension": ".py",
   "mimetype": "text/x-python",
   "name": "python",
   "nbconvert_exporter": "python",
   "pygments_lexer": "ipython3",
   "version": "3.9.12"
  }
 },
 "nbformat": 4,
 "nbformat_minor": 5
}
